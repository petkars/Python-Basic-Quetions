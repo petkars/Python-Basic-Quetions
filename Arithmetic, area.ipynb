{
 "cells": [
  {
   "cell_type": "markdown",
   "id": "fc8abf3b-318f-43d9-9176-fc044d0ed7c7",
   "metadata": {},
   "source": [
    "**Program 1**\n",
    "Write a Python program to print \"Hello Python\""
   ]
  },
  {
   "cell_type": "code",
   "execution_count": 1,
   "id": "86993e2f-6776-4d94-9064-ce089a7480ac",
   "metadata": {},
   "outputs": [
    {
     "name": "stdout",
     "output_type": "stream",
     "text": [
      "Hello Python\n"
     ]
    }
   ],
   "source": [
    "print(\"Hello Python\")"
   ]
  },
  {
   "cell_type": "markdown",
   "id": "802e18e4-7ad3-4292-a4e8-110f2b0d43dc",
   "metadata": {},
   "source": [
    "**Program 2** \n",
    "Write a Python program to do arithmetical operations addition and divison "
   ]
  },
  {
   "cell_type": "code",
   "execution_count": 3,
   "id": "6d90a833-998b-43af-9667-4ac5b86f85d0",
   "metadata": {},
   "outputs": [
    {
     "name": "stdin",
     "output_type": "stream",
     "text": [
      "Enter first number for addition:    345\n",
      "Enter second number for addition:    4\n"
     ]
    },
    {
     "name": "stdout",
     "output_type": "stream",
     "text": [
      "sum: 345 + 4 = 349\n"
     ]
    }
   ],
   "source": [
    "#Addition\n",
    "num1 = float(input(\"Enter first number for addition:   \"))\n",
    "num2 = float(input(\"Enter second number for addition:   \"))\n",
    "\n",
    "addition = num1 + num2\n",
    "\n",
    "print(f\"Sum: {num1} + {num2} = {addition}\") "
   ]
  },
  {
   "cell_type": "code",
   "execution_count": 6,
   "id": "c32451d4-6cca-4493-ac39-87db197fd6ef",
   "metadata": {},
   "outputs": [
    {
     "name": "stdin",
     "output_type": "stream",
     "text": [
      "Enter the divident for division:   50\n",
      "Enter the divisor for divsion:   10\n"
     ]
    },
    {
     "name": "stdout",
     "output_type": "stream",
     "text": [
      "Divsion: 50.0 / 10.0 = 5.0 \n"
     ]
    }
   ],
   "source": [
    "#Division\n",
    "num1 = float(input(\"Enter the divident for division:  \"))\n",
    "num2 = float(input(\"Enter the divisor for divsion:  \"))\n",
    "\n",
    "if num2 == 0:\n",
    "    print(\"Error: Division by 0 is not allowed\")\n",
    "else:\n",
    "     division = num1 / num2 \n",
    "     print(f\"Divsion: {num1} / {num2} = {division} \")"
   ]
  },
  {
   "cell_type": "markdown",
   "id": "c893a766-bae4-416c-81c4-303bac5816d9",
   "metadata": {},
   "source": [
    "**Program 3**\n",
    "Write a Python program to find area of a triangle "
   ]
  },
  {
   "cell_type": "code",
   "execution_count": 1,
   "id": "85c08a5d-26a5-49c7-a39f-a62b1c01fcf4",
   "metadata": {},
   "outputs": [
    {
     "name": "stdin",
     "output_type": "stream",
     "text": [
      "Enter the base of Triangle:   23.5\n",
      "Enter the height of Triangle:   5\n"
     ]
    },
    {
     "name": "stdout",
     "output_type": "stream",
     "text": [
      "Area of Triangle whose base is 23.5 and height is 5.0: 58.75\n"
     ]
    }
   ],
   "source": [
    "base = float(input(\"Enter the base of Triangle:  \"))\n",
    "height = float(input(\"Enter the height of Triangle:  \"))\n",
    "\n",
    "area = 0.5*base*height\n",
    "\n",
    "print(f\"Area of Triangle whose base is {base} and height is {height}: {area}\")"
   ]
  },
  {
   "cell_type": "code",
   "execution_count": null,
   "id": "23049468-66f9-4222-8798-d4340c5787f7",
   "metadata": {},
   "outputs": [],
   "source": []
  },
  {
   "cell_type": "code",
   "execution_count": null,
   "id": "97e4d278-1633-4f8c-ad69-94d41dd3ced9",
   "metadata": {},
   "outputs": [],
   "source": []
  },
  {
   "cell_type": "code",
   "execution_count": null,
   "id": "6a51b600-c16d-4f51-85fb-6d0b8b4dce10",
   "metadata": {},
   "outputs": [],
   "source": []
  },
  {
   "cell_type": "code",
   "execution_count": null,
   "id": "c0b53af5-2334-498a-9a25-9ef42de409f2",
   "metadata": {},
   "outputs": [],
   "source": []
  },
  {
   "cell_type": "code",
   "execution_count": null,
   "id": "885df0ac-0868-4acf-bfb4-5dfefbf396ba",
   "metadata": {},
   "outputs": [],
   "source": []
  },
  {
   "cell_type": "code",
   "execution_count": null,
   "id": "ffc7646e-6cf8-41f2-b63c-172d95a88d09",
   "metadata": {},
   "outputs": [],
   "source": []
  },
  {
   "cell_type": "code",
   "execution_count": null,
   "id": "4f464342-da56-4f70-a951-8a609a100aa3",
   "metadata": {},
   "outputs": [],
   "source": []
  },
  {
   "cell_type": "code",
   "execution_count": null,
   "id": "71b03246-2044-416d-99d6-bec9ed96681c",
   "metadata": {},
   "outputs": [],
   "source": []
  },
  {
   "cell_type": "code",
   "execution_count": null,
   "id": "1a03f8a8-0351-434a-b9a6-abd632b2c60b",
   "metadata": {},
   "outputs": [],
   "source": []
  }
 ],
 "metadata": {
  "kernelspec": {
   "display_name": "Python 3 (ipykernel)",
   "language": "python",
   "name": "python3"
  },
  "language_info": {
   "codemirror_mode": {
    "name": "ipython",
    "version": 3
   },
   "file_extension": ".py",
   "mimetype": "text/x-python",
   "name": "python",
   "nbconvert_exporter": "python",
   "pygments_lexer": "ipython3",
   "version": "3.12.0"
  }
 },
 "nbformat": 4,
 "nbformat_minor": 5
}
